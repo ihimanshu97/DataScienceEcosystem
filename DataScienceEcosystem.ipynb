{
 "cells": [
  {
   "cell_type": "markdown",
   "id": "241658fe-9dcd-4b95-bee2-ef1738092fd3",
   "metadata": {},
   "source": [
    "# Data Science Tools and Ecosystem"
   ]
  },
  {
   "cell_type": "markdown",
   "id": "e3c08bfa-0e31-4bae-9f84-9ac9c906b6f6",
   "metadata": {},
   "source": [
    "Some of the popular languages that Data Scientists use are:\n",
    "1. Python\n",
    "2. R\n",
    "3. Julia"
   ]
  },
  {
   "cell_type": "markdown",
   "id": "c07fe64d-deea-4714-ab40-92f2f3b06c38",
   "metadata": {},
   "source": [
    "In this notebook, Data Science Tools and Ecosystem are summarized."
   ]
  },
  {
   "cell_type": "markdown",
   "id": "b5cf0945-c8a9-420b-946d-10b9f87837a0",
   "metadata": {
    "tags": []
   },
   "source": [
    "**Objectives:**\n",
    "- List popular languages that Data Scientists use.\n",
    "- List commonly used libraries used by Data Scientists.\n",
    "- Comment on Data Science tools."
   ]
  },
  {
   "cell_type": "markdown",
   "id": "234390f3-6437-4a5c-a70d-2d8023d6032e",
   "metadata": {},
   "source": [
    "Some of the commonly used libraries used by Data Scientists include:\n",
    "1. Numpy\n",
    "2. Pandas\n",
    "3. Matplotlib\n",
    "4. scikit-learn\n",
    "5. PyTorch"
   ]
  },
  {
   "cell_type": "markdown",
   "id": "b4e8a221-eaaa-4970-81cd-246c6035bbd3",
   "metadata": {
    "tags": []
   },
   "source": [
    "Data Science Tools:\n",
    "\n",
    "| Data Science Tools |\n",
    "|--------------------|\n",
    "| SAS. It is one of those data science tools which are specifically designed for statistical operation |\n",
    "| Apache Spark |\n",
    "| BigML |"
   ]
  },
  {
   "cell_type": "markdown",
   "id": "00c9ca45-f42c-42a4-8fbe-33ad717b432d",
   "metadata": {},
   "source": [
    "### Below are a few examples of evaluating arithmetic expressions in Python"
   ]
  },
  {
   "cell_type": "code",
   "execution_count": 2,
   "id": "af79a527-3671-4614-ae56-d3cbe2628bbc",
   "metadata": {
    "tags": []
   },
   "outputs": [
    {
     "data": {
      "text/plain": [
       "17"
      ]
     },
     "execution_count": 2,
     "metadata": {},
     "output_type": "execute_result"
    }
   ],
   "source": [
    "# This a simple arithmetic expression to mutiply then add integers\n",
    "(3*4)+5"
   ]
  },
  {
   "cell_type": "code",
   "execution_count": 4,
   "id": "88620bde-0343-4738-a38c-201924a23613",
   "metadata": {
    "tags": []
   },
   "outputs": [
    {
     "name": "stdout",
     "output_type": "stream",
     "text": [
      "3 hours 20 minutes\n"
     ]
    }
   ],
   "source": [
    "# This will convert 200 minutes to hours by diving by 60\n",
    "print(f'{200 // 60} hours {200 % 60} minutes')"
   ]
  },
  {
   "cell_type": "markdown",
   "id": "bad83068-2652-462c-9e4f-86a5464781e9",
   "metadata": {},
   "source": [
    "## Author\n",
    "Himanshu"
   ]
  },
  {
   "cell_type": "code",
   "execution_count": null,
   "id": "ca0fe261-ea65-49db-8154-09089a1324cd",
   "metadata": {},
   "outputs": [],
   "source": []
  }
 ],
 "metadata": {
  "kernelspec": {
   "display_name": "Python",
   "language": "python",
   "name": "conda-env-python-py"
  },
  "language_info": {
   "codemirror_mode": {
    "name": "ipython",
    "version": 3
   },
   "file_extension": ".py",
   "mimetype": "text/x-python",
   "name": "python",
   "nbconvert_exporter": "python",
   "pygments_lexer": "ipython3",
   "version": "3.7.12"
  }
 },
 "nbformat": 4,
 "nbformat_minor": 5
}
